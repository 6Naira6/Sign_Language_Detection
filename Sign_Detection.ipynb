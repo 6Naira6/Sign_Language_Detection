{
  "cells": [
    {
      "attachments": {},
      "cell_type": "markdown",
      "id": "rational-guidance",
      "metadata": {
        "id": "rational-guidance"
      },
      "source": [
        "# Sign Language Classification\n",
        "\n",
        "The American Sign Language MNIST Dataset we are going to use is obtained from [Kaggle](https://www.kaggle.com/datamunge/sign-language-mnist). This dataset is much like the original MNIST dataset. Each training and test case consists of a numerical label (0–25) with a one-to-one correspondence to the English alphabet (0 corresponds to A) and a grayscale 28x28 pixel image with values ranging from 0–255. However, there is no label correspondence to the letter J (9) and Z (25) due to the motion required to symbolize those letters. The number of testing and training cases in this dataset are much lower compared to the orginal MNIST dataset since there are only 27,455 training cases and 7,172 tests cases in this dataset.\n",
        "\n",
        "<img src=\"images/sign_language.png\" width=700 height=700 />\n",
        "\n",
        "In this problem we are going to implement a simple multi-class classification model to classify each image to its desired label. For downloading the dataset, use this [link](https://www.kaggle.com/datamunge/sign-language-mnist)."
      ]
    },
    {
      "cell_type": "code",
      "execution_count": null,
      "id": "substantial-forum",
      "metadata": {
        "id": "substantial-forum"
      },
      "outputs": [],
      "source": [
        "import os\n",
        "import string\n",
        "\n",
        "train_dataset = pd.read_csv('datasets/sign-dataset/sign_mnist_train/sign_mnist_train.csv')\n",
        "test_dataset = pd.read_csv('datasets/sign-dataset/sign_mnist_test/sign_mnist_test.csv')\n",
        "num_rows = train_dataset.shape[0]\n",
        "# To map each label number to its corresponding letter\n",
        "letters = dict(enumerate(string.ascii_uppercase))"
      ]
    },
    {
      "cell_type": "markdown",
      "id": "plain-crack",
      "metadata": {
        "id": "plain-crack"
      },
      "source": [
        "Now it is the time foe data exploration! The first few rows of the training datast are shown below:"
      ]
    },
    {
      "cell_type": "code",
      "execution_count": null,
      "id": "gorgeous-buffer",
      "metadata": {
        "id": "gorgeous-buffer",
        "outputId": "15ecd1c0-8675-458b-e8cc-bb9692183985"
      },
      "outputs": [
        {
          "data": {
            "text/html": [
              "<div>\n",
              "<style scoped>\n",
              "    .dataframe tbody tr th:only-of-type {\n",
              "        vertical-align: middle;\n",
              "    }\n",
              "\n",
              "    .dataframe tbody tr th {\n",
              "        vertical-align: top;\n",
              "    }\n",
              "\n",
              "    .dataframe thead th {\n",
              "        text-align: right;\n",
              "    }\n",
              "</style>\n",
              "<table border=\"1\" class=\"dataframe\">\n",
              "  <thead>\n",
              "    <tr style=\"text-align: right;\">\n",
              "      <th></th>\n",
              "      <th>label</th>\n",
              "      <th>pixel1</th>\n",
              "      <th>pixel2</th>\n",
              "      <th>pixel3</th>\n",
              "      <th>pixel4</th>\n",
              "      <th>pixel5</th>\n",
              "      <th>pixel6</th>\n",
              "      <th>pixel7</th>\n",
              "      <th>pixel8</th>\n",
              "      <th>pixel9</th>\n",
              "      <th>...</th>\n",
              "      <th>pixel775</th>\n",
              "      <th>pixel776</th>\n",
              "      <th>pixel777</th>\n",
              "      <th>pixel778</th>\n",
              "      <th>pixel779</th>\n",
              "      <th>pixel780</th>\n",
              "      <th>pixel781</th>\n",
              "      <th>pixel782</th>\n",
              "      <th>pixel783</th>\n",
              "      <th>pixel784</th>\n",
              "    </tr>\n",
              "  </thead>\n",
              "  <tbody>\n",
              "    <tr>\n",
              "      <th>0</th>\n",
              "      <td>3</td>\n",
              "      <td>107</td>\n",
              "      <td>118</td>\n",
              "      <td>127</td>\n",
              "      <td>134</td>\n",
              "      <td>139</td>\n",
              "      <td>143</td>\n",
              "      <td>146</td>\n",
              "      <td>150</td>\n",
              "      <td>153</td>\n",
              "      <td>...</td>\n",
              "      <td>207</td>\n",
              "      <td>207</td>\n",
              "      <td>207</td>\n",
              "      <td>207</td>\n",
              "      <td>206</td>\n",
              "      <td>206</td>\n",
              "      <td>206</td>\n",
              "      <td>204</td>\n",
              "      <td>203</td>\n",
              "      <td>202</td>\n",
              "    </tr>\n",
              "    <tr>\n",
              "      <th>1</th>\n",
              "      <td>6</td>\n",
              "      <td>155</td>\n",
              "      <td>157</td>\n",
              "      <td>156</td>\n",
              "      <td>156</td>\n",
              "      <td>156</td>\n",
              "      <td>157</td>\n",
              "      <td>156</td>\n",
              "      <td>158</td>\n",
              "      <td>158</td>\n",
              "      <td>...</td>\n",
              "      <td>69</td>\n",
              "      <td>149</td>\n",
              "      <td>128</td>\n",
              "      <td>87</td>\n",
              "      <td>94</td>\n",
              "      <td>163</td>\n",
              "      <td>175</td>\n",
              "      <td>103</td>\n",
              "      <td>135</td>\n",
              "      <td>149</td>\n",
              "    </tr>\n",
              "    <tr>\n",
              "      <th>2</th>\n",
              "      <td>2</td>\n",
              "      <td>187</td>\n",
              "      <td>188</td>\n",
              "      <td>188</td>\n",
              "      <td>187</td>\n",
              "      <td>187</td>\n",
              "      <td>186</td>\n",
              "      <td>187</td>\n",
              "      <td>188</td>\n",
              "      <td>187</td>\n",
              "      <td>...</td>\n",
              "      <td>202</td>\n",
              "      <td>201</td>\n",
              "      <td>200</td>\n",
              "      <td>199</td>\n",
              "      <td>198</td>\n",
              "      <td>199</td>\n",
              "      <td>198</td>\n",
              "      <td>195</td>\n",
              "      <td>194</td>\n",
              "      <td>195</td>\n",
              "    </tr>\n",
              "    <tr>\n",
              "      <th>3</th>\n",
              "      <td>2</td>\n",
              "      <td>211</td>\n",
              "      <td>211</td>\n",
              "      <td>212</td>\n",
              "      <td>212</td>\n",
              "      <td>211</td>\n",
              "      <td>210</td>\n",
              "      <td>211</td>\n",
              "      <td>210</td>\n",
              "      <td>210</td>\n",
              "      <td>...</td>\n",
              "      <td>235</td>\n",
              "      <td>234</td>\n",
              "      <td>233</td>\n",
              "      <td>231</td>\n",
              "      <td>230</td>\n",
              "      <td>226</td>\n",
              "      <td>225</td>\n",
              "      <td>222</td>\n",
              "      <td>229</td>\n",
              "      <td>163</td>\n",
              "    </tr>\n",
              "    <tr>\n",
              "      <th>4</th>\n",
              "      <td>13</td>\n",
              "      <td>164</td>\n",
              "      <td>167</td>\n",
              "      <td>170</td>\n",
              "      <td>172</td>\n",
              "      <td>176</td>\n",
              "      <td>179</td>\n",
              "      <td>180</td>\n",
              "      <td>184</td>\n",
              "      <td>185</td>\n",
              "      <td>...</td>\n",
              "      <td>92</td>\n",
              "      <td>105</td>\n",
              "      <td>105</td>\n",
              "      <td>108</td>\n",
              "      <td>133</td>\n",
              "      <td>163</td>\n",
              "      <td>157</td>\n",
              "      <td>163</td>\n",
              "      <td>164</td>\n",
              "      <td>179</td>\n",
              "    </tr>\n",
              "    <tr>\n",
              "      <th>5</th>\n",
              "      <td>16</td>\n",
              "      <td>161</td>\n",
              "      <td>168</td>\n",
              "      <td>172</td>\n",
              "      <td>173</td>\n",
              "      <td>178</td>\n",
              "      <td>184</td>\n",
              "      <td>189</td>\n",
              "      <td>193</td>\n",
              "      <td>196</td>\n",
              "      <td>...</td>\n",
              "      <td>76</td>\n",
              "      <td>74</td>\n",
              "      <td>68</td>\n",
              "      <td>62</td>\n",
              "      <td>53</td>\n",
              "      <td>55</td>\n",
              "      <td>48</td>\n",
              "      <td>238</td>\n",
              "      <td>255</td>\n",
              "      <td>255</td>\n",
              "    </tr>\n",
              "    <tr>\n",
              "      <th>6</th>\n",
              "      <td>8</td>\n",
              "      <td>134</td>\n",
              "      <td>134</td>\n",
              "      <td>135</td>\n",
              "      <td>135</td>\n",
              "      <td>136</td>\n",
              "      <td>137</td>\n",
              "      <td>137</td>\n",
              "      <td>138</td>\n",
              "      <td>138</td>\n",
              "      <td>...</td>\n",
              "      <td>109</td>\n",
              "      <td>102</td>\n",
              "      <td>91</td>\n",
              "      <td>65</td>\n",
              "      <td>138</td>\n",
              "      <td>189</td>\n",
              "      <td>179</td>\n",
              "      <td>181</td>\n",
              "      <td>181</td>\n",
              "      <td>179</td>\n",
              "    </tr>\n",
              "    <tr>\n",
              "      <th>7</th>\n",
              "      <td>22</td>\n",
              "      <td>114</td>\n",
              "      <td>42</td>\n",
              "      <td>74</td>\n",
              "      <td>99</td>\n",
              "      <td>104</td>\n",
              "      <td>109</td>\n",
              "      <td>117</td>\n",
              "      <td>127</td>\n",
              "      <td>142</td>\n",
              "      <td>...</td>\n",
              "      <td>214</td>\n",
              "      <td>218</td>\n",
              "      <td>220</td>\n",
              "      <td>223</td>\n",
              "      <td>223</td>\n",
              "      <td>225</td>\n",
              "      <td>227</td>\n",
              "      <td>227</td>\n",
              "      <td>228</td>\n",
              "      <td>228</td>\n",
              "    </tr>\n",
              "    <tr>\n",
              "      <th>8</th>\n",
              "      <td>3</td>\n",
              "      <td>169</td>\n",
              "      <td>174</td>\n",
              "      <td>176</td>\n",
              "      <td>180</td>\n",
              "      <td>183</td>\n",
              "      <td>185</td>\n",
              "      <td>187</td>\n",
              "      <td>188</td>\n",
              "      <td>190</td>\n",
              "      <td>...</td>\n",
              "      <td>119</td>\n",
              "      <td>118</td>\n",
              "      <td>123</td>\n",
              "      <td>120</td>\n",
              "      <td>118</td>\n",
              "      <td>114</td>\n",
              "      <td>94</td>\n",
              "      <td>74</td>\n",
              "      <td>61</td>\n",
              "      <td>57</td>\n",
              "    </tr>\n",
              "    <tr>\n",
              "      <th>9</th>\n",
              "      <td>3</td>\n",
              "      <td>189</td>\n",
              "      <td>189</td>\n",
              "      <td>189</td>\n",
              "      <td>190</td>\n",
              "      <td>190</td>\n",
              "      <td>191</td>\n",
              "      <td>190</td>\n",
              "      <td>190</td>\n",
              "      <td>190</td>\n",
              "      <td>...</td>\n",
              "      <td>13</td>\n",
              "      <td>53</td>\n",
              "      <td>200</td>\n",
              "      <td>204</td>\n",
              "      <td>201</td>\n",
              "      <td>201</td>\n",
              "      <td>193</td>\n",
              "      <td>175</td>\n",
              "      <td>178</td>\n",
              "      <td>156</td>\n",
              "    </tr>\n",
              "  </tbody>\n",
              "</table>\n",
              "<p>10 rows × 785 columns</p>\n",
              "</div>"
            ],
            "text/plain": [
              "   label  pixel1  pixel2  pixel3  pixel4  pixel5  pixel6  pixel7  pixel8  \\\n",
              "0      3     107     118     127     134     139     143     146     150   \n",
              "1      6     155     157     156     156     156     157     156     158   \n",
              "2      2     187     188     188     187     187     186     187     188   \n",
              "3      2     211     211     212     212     211     210     211     210   \n",
              "4     13     164     167     170     172     176     179     180     184   \n",
              "5     16     161     168     172     173     178     184     189     193   \n",
              "6      8     134     134     135     135     136     137     137     138   \n",
              "7     22     114      42      74      99     104     109     117     127   \n",
              "8      3     169     174     176     180     183     185     187     188   \n",
              "9      3     189     189     189     190     190     191     190     190   \n",
              "\n",
              "   pixel9  ...  pixel775  pixel776  pixel777  pixel778  pixel779  pixel780  \\\n",
              "0     153  ...       207       207       207       207       206       206   \n",
              "1     158  ...        69       149       128        87        94       163   \n",
              "2     187  ...       202       201       200       199       198       199   \n",
              "3     210  ...       235       234       233       231       230       226   \n",
              "4     185  ...        92       105       105       108       133       163   \n",
              "5     196  ...        76        74        68        62        53        55   \n",
              "6     138  ...       109       102        91        65       138       189   \n",
              "7     142  ...       214       218       220       223       223       225   \n",
              "8     190  ...       119       118       123       120       118       114   \n",
              "9     190  ...        13        53       200       204       201       201   \n",
              "\n",
              "   pixel781  pixel782  pixel783  pixel784  \n",
              "0       206       204       203       202  \n",
              "1       175       103       135       149  \n",
              "2       198       195       194       195  \n",
              "3       225       222       229       163  \n",
              "4       157       163       164       179  \n",
              "5        48       238       255       255  \n",
              "6       179       181       181       179  \n",
              "7       227       227       228       228  \n",
              "8        94        74        61        57  \n",
              "9       193       175       178       156  \n",
              "\n",
              "[10 rows x 785 columns]"
            ]
          },
          "execution_count": 8,
          "metadata": {},
          "output_type": "execute_result"
        }
      ],
      "source": [
        "train_dataset.head(10)"
      ]
    },
    {
      "cell_type": "markdown",
      "id": "fitted-topic",
      "metadata": {
        "id": "fitted-topic"
      },
      "source": [
        "We need to separate the pixel values and the label from each other in order for us to load and access it separately. A function was constructed to split the training and testing dataset to separate the labels from the pixel values."
      ]
    },
    {
      "cell_type": "code",
      "execution_count": null,
      "id": "authorized-conjunction",
      "metadata": {
        "id": "authorized-conjunction"
      },
      "outputs": [],
      "source": [
        "def dataframe_to_array(dataframe):\n",
        "    # Make a copy of the original dataframe\n",
        "    dataframe1 = dataframe.copy(deep=True)\n",
        "    # Extract input & outupts as numpy arrays\n",
        "    inputs_array = dataframe1.iloc[:, 1:].to_numpy()\n",
        "    targets_array = dataframe1['label'].to_numpy()\n",
        "    return inputs_array, targets_array"
      ]
    },
    {
      "cell_type": "code",
      "execution_count": null,
      "id": "impressed-kingdom",
      "metadata": {
        "colab": {
          "base_uri": "https://localhost:8080/"
        },
        "id": "impressed-kingdom",
        "outputId": "33017a99-6679-48b3-97e2-b791a16b639d"
      },
      "outputs": [
        {
          "name": "stdout",
          "output_type": "stream",
          "text": [
            "(27455, 784) (27455,)\n",
            "(7172, 784) (7172,)\n"
          ]
        }
      ],
      "source": [
        "X_train, y_train = dataframe_to_array(train_dataset)\n",
        "X_train = np.float32(X_train)\n",
        "y_train = np.float32(y_train)\n",
        "X_test, y_test = dataframe_to_array(test_dataset)\n",
        "X_test = np.float32(X_test)\n",
        "y_test = np.float32(y_test)\n",
        "\n",
        "print(X_train.shape, y_train.shape)\n",
        "print(X_test.shape, y_test.shape)"
      ]
    },
    {
      "cell_type": "markdown",
      "id": "stupid-onion",
      "metadata": {
        "id": "stupid-onion"
      },
      "source": [
        "Let’s look at the first row of the training dataset. We also need to reshape the array to (28x28) since the initial shape is just a row array."
      ]
    },
    {
      "cell_type": "code",
      "execution_count": null,
      "id": "green-helicopter",
      "metadata": {
        "colab": {
          "base_uri": "https://localhost:8080/",
          "height": 283
        },
        "id": "green-helicopter",
        "outputId": "16dfb523-a799-48c9-f307-e27ccb964e44"
      },
      "outputs": [
        {
          "name": "stdout",
          "output_type": "stream",
          "text": [
            "Letter:  D\n"
          ]
        },
        {
          "data": {
            "image/png": "[encoded data removed]",
            "text/plain": [
              "<Figure size 432x288 with 1 Axes>"
            ]
          },
          "metadata": {
            "needs_background": "light"
          },
          "output_type": "display_data"
        }
      ],
      "source": [
        "pic1 = np.reshape(X_train[0], (28, 28))\n",
        "plt.imshow(pic1, cmap = \"gray\")\n",
        "print(\"Letter: \", letters[y_train[0].item()])"
      ]
    },
    {
      "cell_type": "markdown",
      "id": "surface-purchase",
      "metadata": {
        "id": "surface-purchase"
      },
      "source": [
        "As expected, the letter in the hand image is D. However, it is evident that the image is not clear due to its small resolution. This may affect the accuracy of our model and the implementation of the model in a much larger scale.\n",
        "\n",
        "The training and testing input arrays are converted to continuous float values since it allows our model for a more precise learning as compared to discrete values. On the other hand, the training and testing labels are converted to long integers since the output of the model are indices to be used in accessing probability values."
      ]
    },
    {
      "attachments": {},
      "cell_type": "markdown",
      "id": "terminal-chase",
      "metadata": {
        "id": "terminal-chase"
      },
      "source": [
        "## `SimpleLogisticRegression` class.\n"
      ]
    },
    {
      "cell_type": "code",
      "execution_count": null,
      "id": "forced-separate",
      "metadata": {
        "colab": {
          "base_uri": "https://localhost:8080/"
        },
        "id": "forced-separate",
        "outputId": "719a430c-0592-4b4d-bd95-5381b9499252"
      },
      "outputs": [
        {
          "name": "stdout",
          "output_type": "stream",
          "text": [
            "Test accuracy = 66.86\n"
          ]
        },
        {
          "name": "stderr",
          "output_type": "stream",
          "text": [
            "/usr/local/lib/python3.8/dist-packages/sklearn/linear_model/_logistic.py:814: ConvergenceWarning: lbfgs failed to converge (status=1):\n",
            "STOP: TOTAL NO. of ITERATIONS REACHED LIMIT.\n",
            "\n",
            "Increase the number of iterations (max_iter) or scale the data as shown in:\n",
            "    https://scikit-learn.org/stable/modules/preprocessing.html\n",
            "Please also refer to the documentation for alternative solver options:\n",
            "    https://scikit-learn.org/stable/modules/linear_model.html#logistic-regression\n",
            "  n_iter_i = _check_optimize_result(\n"
          ]
        }
      ],
      "source": [
        "from sklearn.linear_model import LogisticRegression\n",
        "\n",
        "############# Your code here ############\n",
        "#normalising\n",
        "mean_image = np.mean(X_train, axis=0)\n",
        "X_train -= mean_image\n",
        "X_test  -= mean_image\n",
        "#fit\n",
        "model = LogisticRegression(random_state = 0)\n",
        "model.fit(X_train, y_train)\n",
        "y_pred = model.predict(X_test)\n",
        "#accuracy\n",
        "test_accuracy = 100.0 * np.mean(y_pred == y_test)\n",
        "print(\"Test accuracy = %.2f\" % test_accuracy)\n",
        "#########################################"
      ]
    },
    {
      "attachments": {},
      "cell_type": "markdown",
      "id": "raised-destruction",
      "metadata": {
        "id": "raised-destruction"
      },
      "source": [
        "## Multi-label classification metrics.\n",
        "Next metric we used in below cell is a confusion matrix. It's a 23x23 shaped matrix (nmber of classes) and it shows us how many datas have been predicted for each class and whether it was a right prediction or wrong one. We can where our model exceeds and where it fails and also using this we can measure recall and percision which we talked about in class."
      ]
    },
    {
      "cell_type": "code",
      "execution_count": null,
      "id": "vocal-personal",
      "metadata": {
        "colab": {
          "base_uri": "https://localhost:8080/",
          "height": 594
        },
        "id": "vocal-personal",
        "outputId": "fa6f3ea9-38a4-49d6-8c29-41f5db92b1fd"
      },
      "outputs": [
        {
          "data": {
            "image/png": "[encoded data removed]",
            "text/plain": [
              "<Figure size 1080x720 with 2 Axes>"
            ]
          },
          "metadata": {},
          "output_type": "display_data"
        }
      ],
      "source": [
        "############# Your code here ############\n",
        "from sklearn.metrics import confusion_matrix\n",
        "import seaborn as sn\n",
        "\n",
        "df_cm = pd.DataFrame(confusion_matrix(y_test, y_pred), range(24), range(24))\n",
        "sn.set(rc={'figure.figsize':(15,10)})\n",
        "sn.heatmap(df_cm, annot=True, annot_kws={\"size\": 7})\n",
        "\n",
        "plt.show()\n",
        "#########################################"
      ]
    },
    {
      "cell_type": "markdown",
      "id": "unlimited-costa",
      "metadata": {
        "id": "unlimited-costa"
      },
      "source": [
        "# 3. Submission\n",
        "\n",
        "Please read the notes here carefully:\n",
        "\n",
        "1. The more beautiful and insightfull your plots and diagrams are, the more points you get. So please take your time and concentration to prepare a good report with nice diagrams.\n",
        "\n",
        "2. The file you upload must be named as `[Student ID]-[Your name].zip` and it must contain **only 1 file**:\n",
        "\n",
        "  - `Linear_and_Logistic_Regression.ipynb`\n",
        "  \n",
        "4. **Important Note**: The outputs of the code blocks must be remained in your notebook, otherwise, you definitly lose all the points of that \n",
        "\n",
        "\n",
        "  \n",
        "In case you have any questions, contact **mohammad99hashemi@gmail.com**."
      ]
    }
  ],
  "metadata": {
    "accelerator": "GPU",
    "colab": {
      "provenance": []
    },
    "gpuClass": "standard",
    "kernelspec": {
      "display_name": "Python 3",
      "language": "python",
      "name": "python3"
    },
    "language_info": {
      "codemirror_mode": {
        "name": "ipython",
        "version": 3
      },
      "file_extension": ".py",
      "mimetype": "text/x-python",
      "name": "python",
      "nbconvert_exporter": "python",
      "pygments_lexer": "ipython3",
      "version": "3.9.5"
    }
  },
  "nbformat": 4,
  "nbformat_minor": 5
}
